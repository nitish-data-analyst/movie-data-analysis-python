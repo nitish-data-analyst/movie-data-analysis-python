{
  "nbformat": 4,
  "nbformat_minor": 0,
  "metadata": {
    "colab": {
      "provenance": []
    },
    "kernelspec": {
      "name": "python3",
      "display_name": "Python 3"
    },
    "language_info": {
      "name": "python"
    }
  },
  "cells": [
    {
      "cell_type": "code",
      "execution_count": null,
      "metadata": {
        "id": "GfhHmDOBcVr-"
      },
      "outputs": [],
      "source": [
        "import pandas as pd\n",
        "df=pd.read_csv('/content/drive/MyDrive/Copy of moviesData.csv')"
      ]
    },
    {
      "cell_type": "markdown",
      "source": [
        "what is the average vote for movies of each original language."
      ],
      "metadata": {
        "id": "oVgtACXddWAk"
      }
    },
    {
      "cell_type": "code",
      "source": [
        "df.groupby('original_language')['vote_average'].mean()"
      ],
      "metadata": {
        "colab": {
          "base_uri": "https://localhost:8080/"
        },
        "id": "UYfl5aXHdjme",
        "outputId": "304156be-72b8-4b27-8465-a88df9b8b997"
      },
      "execution_count": null,
      "outputs": [
        {
          "output_type": "execute_result",
          "data": {
            "text/plain": [
              "original_language\n",
              "af    6.900000\n",
              "ar    7.300000\n",
              "cn    6.500000\n",
              "cs    5.650000\n",
              "da    7.128571\n",
              "de    6.325926\n",
              "el    6.900000\n",
              "en    6.065683\n",
              "es    6.659375\n",
              "fa    7.375000\n",
              "fr    6.430000\n",
              "he    7.400000\n",
              "hi    6.010526\n",
              "hu    6.500000\n",
              "id    7.400000\n",
              "is    6.900000\n",
              "it    7.028571\n",
              "ja    7.050000\n",
              "ko    6.672727\n",
              "ky    0.000000\n",
              "nb    6.700000\n",
              "nl    7.175000\n",
              "no    6.100000\n",
              "pl    7.100000\n",
              "ps    6.300000\n",
              "pt    6.388889\n",
              "ro    3.650000\n",
              "ru    6.354545\n",
              "sl    6.000000\n",
              "sv    7.060000\n",
              "ta    5.850000\n",
              "te    7.500000\n",
              "th    5.966667\n",
              "tr    4.300000\n",
              "vi    5.000000\n",
              "xx    7.100000\n",
              "zh    6.300000\n",
              "Name: vote_average, dtype: float64"
            ]
          },
          "metadata": {},
          "execution_count": 3
        }
      ]
    },
    {
      "cell_type": "markdown",
      "source": [
        "what is the average popalarity for movies of each production company."
      ],
      "metadata": {
        "id": "hWWEs8XJfpcl"
      }
    },
    {
      "cell_type": "code",
      "source": [
        "df.groupby('production_companies')['popularity'].mean()\n"
      ],
      "metadata": {
        "colab": {
          "base_uri": "https://localhost:8080/"
        },
        "id": "eLjAClKifxxR",
        "outputId": "8ae345f0-921a-47f2-e026-b8c94a40e11d"
      },
      "execution_count": null,
      "outputs": [
        {
          "output_type": "execute_result",
          "data": {
            "text/plain": [
              "production_companies\n",
              "[]                                                                                                                                                                                                                                                                                                                                                                                                                                                                                                    1.566222\n",
              "[{\"name\": \"100 Bares\", \"id\": 5517}, {\"name\": \"Haddock Films S.R.L.\", \"id\": 5623}, {\"name\": \"Instituto Nacional de Cine y Artes Audiovisuales (INCAA)\", \"id\": 6458}, {\"name\": \"Televisi\\u00f3n Espa\\u00f1ola (TVE)\", \"id\": 6639}, {\"name\": \"Tornasol Films\", \"id\": 7680}, {\"name\": \"Canal+ Espa\\u00f1a\", \"id\": 9335}, {\"name\": \"Ministerio de Cultura\", \"id\": 11408}, {\"name\": \"Instituto de Cr\\u00e9dito Oficial (ICO)\", \"id\": 11427}, {\"name\": \"Televisi\\u00f3n Federal (Telefe)\", \"id\": 21915}]    25.894065\n",
              "[{\"name\": \"100 Bares\", \"id\": 5517}, {\"name\": \"Ministerio de Cultura\", \"id\": 11408}, {\"name\": \"Instituto de Cr\\u00e9dito Oficial (ICO)\", \"id\": 11427}, {\"name\": \"Televisi\\u00f3n Federal (Telefe)\", \"id\": 21915}, {\"name\": \"369 Productions\", \"id\": 22128}, {\"name\": \"Catmandu Branded Entertainment\", \"id\": 22130}, {\"name\": \"JEMPSA\", \"id\": 22133}, {\"name\": \"Plural - Jempsa\", \"id\": 22134}, {\"name\": \"Prana Animation Studios\", \"id\": 22135}]                                                     14.866351\n",
              "[{\"name\": \"101st Street Films\", \"id\": 54684}]                                                                                                                                                                                                                                                                                                                                                                                                                                                         0.587276\n",
              "[{\"name\": \"1492 Pictures\", \"id\": 436}, {\"name\": \"Dune Entertainment\", \"id\": 444}, {\"name\": \"Fox 2000 Pictures\", \"id\": 711}, {\"name\": \"Sunswept Entertainment\", \"id\": 5219}, {\"name\": \"Dune Entertainment III\", \"id\": 6332}, {\"name\": \"TSG Entertainment\", \"id\": 22213}]                                                                                                                                                                                                                              40.262261\n",
              "                                                                                                                                                                                                                                                                                                                                                                                                                                                                                                       ...    \n",
              "[{\"name\": \"area japan\", \"id\": 6536}]                                                                                                                                                                                                                                                                                                                                                                                                                                                                  3.803495\n",
              "[{\"name\": \"i5 Films\", \"id\": 26927}, {\"name\": \"Headquarters\", \"id\": 42932}]                                                                                                                                                                                                                                                                                                                                                                                                                            1.369649\n",
              "[{\"name\": \"icon\", \"id\": 4096}]                                                                                                                                                                                                                                                                                                                                                                                                                                                                        2.080741\n",
              "[{\"name\": \"kNow Productions\", \"id\": 14911}]                                                                                                                                                                                                                                                                                                                                                                                                                                                           0.594580\n",
              "[{\"name\": \"rusty bear entertainment\", \"id\": 87986}, {\"name\": \"lucky crow films\", \"id\": 87987}]                                                                                                                                                                                                                                                                                                                                                                                                        1.929883\n",
              "Name: popularity, Length: 3697, dtype: float64"
            ]
          },
          "metadata": {},
          "execution_count": 30
        }
      ]
    },
    {
      "cell_type": "markdown",
      "source": [
        "How many movies were released in each year."
      ],
      "metadata": {
        "id": "QatBSct5hz3G"
      }
    },
    {
      "cell_type": "code",
      "source": [
        "df['year']=pd.DatetimeIndex(df['release_date']).year\n",
        "df['year'].value_counts()"
      ],
      "metadata": {
        "colab": {
          "base_uri": "https://localhost:8080/"
        },
        "id": "vrXN66bHh3QI",
        "outputId": "59124390-6f7c-435f-c0bd-c62b7dcf3b6b"
      },
      "execution_count": null,
      "outputs": [
        {
          "output_type": "execute_result",
          "data": {
            "text/plain": [
              "2009.0    247\n",
              "2014.0    238\n",
              "2006.0    237\n",
              "2013.0    231\n",
              "2008.0    227\n",
              "         ... \n",
              "1935.0      1\n",
              "1932.0      1\n",
              "1916.0      1\n",
              "1934.0      1\n",
              "1925.0      1\n",
              "Name: year, Length: 90, dtype: int64"
            ]
          },
          "metadata": {},
          "execution_count": 41
        }
      ]
    },
    {
      "cell_type": "markdown",
      "source": [
        "Select movies with a runtime greater than 90 min."
      ],
      "metadata": {
        "id": "DaRqSKiojtBh"
      }
    },
    {
      "cell_type": "code",
      "source": [
        "x=df[df['runtime']>90]\n",
        "x[['title','runtime']]"
      ],
      "metadata": {
        "colab": {
          "base_uri": "https://localhost:8080/",
          "height": 424
        },
        "id": "lCCHZqR3j7VW",
        "outputId": "a1bcbebe-2959-45a6-aa1d-cb26663a6cea"
      },
      "execution_count": null,
      "outputs": [
        {
          "output_type": "execute_result",
          "data": {
            "text/plain": [
              "                                         title  runtime\n",
              "0                                       Avatar    162.0\n",
              "1     Pirates of the Caribbean: At World's End    169.0\n",
              "2                                      Spectre    148.0\n",
              "3                        The Dark Knight Rises    165.0\n",
              "4                                  John Carter    132.0\n",
              "...                                        ...      ...\n",
              "4789                                     Clean    111.0\n",
              "4792                                      Cure    111.0\n",
              "4795                                      Bang     98.0\n",
              "4800                 Signed, Sealed, Delivered    120.0\n",
              "4801                          Shanghai Calling     98.0\n",
              "\n",
              "[3933 rows x 2 columns]"
            ],
            "text/html": [
              "\n",
              "  <div id=\"df-aecd4121-0c0e-4acd-b087-e314c0f5fdd5\">\n",
              "    <div class=\"colab-df-container\">\n",
              "      <div>\n",
              "<style scoped>\n",
              "    .dataframe tbody tr th:only-of-type {\n",
              "        vertical-align: middle;\n",
              "    }\n",
              "\n",
              "    .dataframe tbody tr th {\n",
              "        vertical-align: top;\n",
              "    }\n",
              "\n",
              "    .dataframe thead th {\n",
              "        text-align: right;\n",
              "    }\n",
              "</style>\n",
              "<table border=\"1\" class=\"dataframe\">\n",
              "  <thead>\n",
              "    <tr style=\"text-align: right;\">\n",
              "      <th></th>\n",
              "      <th>title</th>\n",
              "      <th>runtime</th>\n",
              "    </tr>\n",
              "  </thead>\n",
              "  <tbody>\n",
              "    <tr>\n",
              "      <th>0</th>\n",
              "      <td>Avatar</td>\n",
              "      <td>162.0</td>\n",
              "    </tr>\n",
              "    <tr>\n",
              "      <th>1</th>\n",
              "      <td>Pirates of the Caribbean: At World's End</td>\n",
              "      <td>169.0</td>\n",
              "    </tr>\n",
              "    <tr>\n",
              "      <th>2</th>\n",
              "      <td>Spectre</td>\n",
              "      <td>148.0</td>\n",
              "    </tr>\n",
              "    <tr>\n",
              "      <th>3</th>\n",
              "      <td>The Dark Knight Rises</td>\n",
              "      <td>165.0</td>\n",
              "    </tr>\n",
              "    <tr>\n",
              "      <th>4</th>\n",
              "      <td>John Carter</td>\n",
              "      <td>132.0</td>\n",
              "    </tr>\n",
              "    <tr>\n",
              "      <th>...</th>\n",
              "      <td>...</td>\n",
              "      <td>...</td>\n",
              "    </tr>\n",
              "    <tr>\n",
              "      <th>4789</th>\n",
              "      <td>Clean</td>\n",
              "      <td>111.0</td>\n",
              "    </tr>\n",
              "    <tr>\n",
              "      <th>4792</th>\n",
              "      <td>Cure</td>\n",
              "      <td>111.0</td>\n",
              "    </tr>\n",
              "    <tr>\n",
              "      <th>4795</th>\n",
              "      <td>Bang</td>\n",
              "      <td>98.0</td>\n",
              "    </tr>\n",
              "    <tr>\n",
              "      <th>4800</th>\n",
              "      <td>Signed, Sealed, Delivered</td>\n",
              "      <td>120.0</td>\n",
              "    </tr>\n",
              "    <tr>\n",
              "      <th>4801</th>\n",
              "      <td>Shanghai Calling</td>\n",
              "      <td>98.0</td>\n",
              "    </tr>\n",
              "  </tbody>\n",
              "</table>\n",
              "<p>3933 rows × 2 columns</p>\n",
              "</div>\n",
              "      <button class=\"colab-df-convert\" onclick=\"convertToInteractive('df-aecd4121-0c0e-4acd-b087-e314c0f5fdd5')\"\n",
              "              title=\"Convert this dataframe to an interactive table.\"\n",
              "              style=\"display:none;\">\n",
              "        \n",
              "  <svg xmlns=\"http://www.w3.org/2000/svg\" height=\"24px\"viewBox=\"0 0 24 24\"\n",
              "       width=\"24px\">\n",
              "    <path d=\"M0 0h24v24H0V0z\" fill=\"none\"/>\n",
              "    <path d=\"M18.56 5.44l.94 2.06.94-2.06 2.06-.94-2.06-.94-.94-2.06-.94 2.06-2.06.94zm-11 1L8.5 8.5l.94-2.06 2.06-.94-2.06-.94L8.5 2.5l-.94 2.06-2.06.94zm10 10l.94 2.06.94-2.06 2.06-.94-2.06-.94-.94-2.06-.94 2.06-2.06.94z\"/><path d=\"M17.41 7.96l-1.37-1.37c-.4-.4-.92-.59-1.43-.59-.52 0-1.04.2-1.43.59L10.3 9.45l-7.72 7.72c-.78.78-.78 2.05 0 2.83L4 21.41c.39.39.9.59 1.41.59.51 0 1.02-.2 1.41-.59l7.78-7.78 2.81-2.81c.8-.78.8-2.07 0-2.86zM5.41 20L4 18.59l7.72-7.72 1.47 1.35L5.41 20z\"/>\n",
              "  </svg>\n",
              "      </button>\n",
              "      \n",
              "  <style>\n",
              "    .colab-df-container {\n",
              "      display:flex;\n",
              "      flex-wrap:wrap;\n",
              "      gap: 12px;\n",
              "    }\n",
              "\n",
              "    .colab-df-convert {\n",
              "      background-color: #E8F0FE;\n",
              "      border: none;\n",
              "      border-radius: 50%;\n",
              "      cursor: pointer;\n",
              "      display: none;\n",
              "      fill: #1967D2;\n",
              "      height: 32px;\n",
              "      padding: 0 0 0 0;\n",
              "      width: 32px;\n",
              "    }\n",
              "\n",
              "    .colab-df-convert:hover {\n",
              "      background-color: #E2EBFA;\n",
              "      box-shadow: 0px 1px 2px rgba(60, 64, 67, 0.3), 0px 1px 3px 1px rgba(60, 64, 67, 0.15);\n",
              "      fill: #174EA6;\n",
              "    }\n",
              "\n",
              "    [theme=dark] .colab-df-convert {\n",
              "      background-color: #3B4455;\n",
              "      fill: #D2E3FC;\n",
              "    }\n",
              "\n",
              "    [theme=dark] .colab-df-convert:hover {\n",
              "      background-color: #434B5C;\n",
              "      box-shadow: 0px 1px 3px 1px rgba(0, 0, 0, 0.15);\n",
              "      filter: drop-shadow(0px 1px 2px rgba(0, 0, 0, 0.3));\n",
              "      fill: #FFFFFF;\n",
              "    }\n",
              "  </style>\n",
              "\n",
              "      <script>\n",
              "        const buttonEl =\n",
              "          document.querySelector('#df-aecd4121-0c0e-4acd-b087-e314c0f5fdd5 button.colab-df-convert');\n",
              "        buttonEl.style.display =\n",
              "          google.colab.kernel.accessAllowed ? 'block' : 'none';\n",
              "\n",
              "        async function convertToInteractive(key) {\n",
              "          const element = document.querySelector('#df-aecd4121-0c0e-4acd-b087-e314c0f5fdd5');\n",
              "          const dataTable =\n",
              "            await google.colab.kernel.invokeFunction('convertToInteractive',\n",
              "                                                     [key], {});\n",
              "          if (!dataTable) return;\n",
              "\n",
              "          const docLinkHtml = 'Like what you see? Visit the ' +\n",
              "            '<a target=\"_blank\" href=https://colab.research.google.com/notebooks/data_table.ipynb>data table notebook</a>'\n",
              "            + ' to learn more about interactive tables.';\n",
              "          element.innerHTML = '';\n",
              "          dataTable['output_type'] = 'display_data';\n",
              "          await google.colab.output.renderOutput(dataTable, element);\n",
              "          const docLink = document.createElement('div');\n",
              "          docLink.innerHTML = docLinkHtml;\n",
              "          element.appendChild(docLink);\n",
              "        }\n",
              "      </script>\n",
              "    </div>\n",
              "  </div>\n",
              "  "
            ]
          },
          "metadata": {},
          "execution_count": 46
        }
      ]
    },
    {
      "cell_type": "markdown",
      "source": [
        "Get the details of movies with a highest vote count."
      ],
      "metadata": {
        "id": "id-zVXn-kdpN"
      }
    },
    {
      "cell_type": "code",
      "source": [
        "movie=df.loc[df['vote_count'].idxmax()]\n",
        "movie['title']"
      ],
      "metadata": {
        "colab": {
          "base_uri": "https://localhost:8080/",
          "height": 35
        },
        "id": "74bqQcbFkL_C",
        "outputId": "c0340d18-68d1-4673-f9e7-2d3e99660082"
      },
      "execution_count": null,
      "outputs": [
        {
          "output_type": "execute_result",
          "data": {
            "text/plain": [
              "'Inception'"
            ],
            "application/vnd.google.colaboratory.intrinsic+json": {
              "type": "string"
            }
          },
          "metadata": {},
          "execution_count": 49
        }
      ]
    },
    {
      "cell_type": "markdown",
      "source": [
        "Retrive the overview of movie that have specific keyword."
      ],
      "metadata": {
        "id": "H4rICU7Uk967"
      }
    },
    {
      "cell_type": "code",
      "source": [
        "df['title'].unique()\n"
      ],
      "metadata": {
        "colab": {
          "base_uri": "https://localhost:8080/"
        },
        "id": "0h9vSg5Nk8-x",
        "outputId": "092c5325-17b8-4586-8c8d-3a6fb52fa73e"
      },
      "execution_count": null,
      "outputs": [
        {
          "output_type": "execute_result",
          "data": {
            "text/plain": [
              "array(['Avatar', \"Pirates of the Caribbean: At World's End\", 'Spectre',\n",
              "       ..., 'Signed, Sealed, Delivered', 'Shanghai Calling',\n",
              "       'My Date with Drew'], dtype=object)"
            ]
          },
          "metadata": {},
          "execution_count": 55
        }
      ]
    },
    {
      "cell_type": "markdown",
      "source": [
        "Get the tagline of movies with a popularity above 100?"
      ],
      "metadata": {
        "id": "4cySY5arlbp5"
      }
    },
    {
      "cell_type": "code",
      "source": [
        "x=df[df['popularity']>100]\n",
        "x[['title','tagline']]"
      ],
      "metadata": {
        "colab": {
          "base_uri": "https://localhost:8080/",
          "height": 424
        },
        "id": "uf-xR4WZliBJ",
        "outputId": "f10826bb-922f-45f7-b7a1-430f83c494c1"
      },
      "execution_count": null,
      "outputs": [
        {
          "output_type": "execute_result",
          "data": {
            "text/plain": [
              "                                         title  \\\n",
              "0                                       Avatar   \n",
              "1     Pirates of the Caribbean: At World's End   \n",
              "2                                      Spectre   \n",
              "3                        The Dark Knight Rises   \n",
              "5                                 Spider-Man 3   \n",
              "...                                        ...   \n",
              "3232                              Pulp Fiction   \n",
              "3337                             The Godfather   \n",
              "3719           One Flew Over the Cuckoo's Nest   \n",
              "3865                                  Whiplash   \n",
              "4074                                It Follows   \n",
              "\n",
              "                                                tagline  \n",
              "0                           Enter the World of Pandora.  \n",
              "1        At the end of the world, the adventure begins.  \n",
              "2                                 A Plan No One Escapes  \n",
              "3                                       The Legend Ends  \n",
              "5                                    The battle within.  \n",
              "...                                                 ...  \n",
              "3232  Just because you are a character doesn't mean ...  \n",
              "3337                         An offer you can't refuse.  \n",
              "3719            If he's crazy, what does that make you?  \n",
              "3865    The road to greatness can take you to the edge.  \n",
              "4074  It doesn't think, it doesn't feel, it doesn't ...  \n",
              "\n",
              "[91 rows x 2 columns]"
            ],
            "text/html": [
              "\n",
              "  <div id=\"df-0ebfb03f-6f94-47ff-baca-be96da7702fa\">\n",
              "    <div class=\"colab-df-container\">\n",
              "      <div>\n",
              "<style scoped>\n",
              "    .dataframe tbody tr th:only-of-type {\n",
              "        vertical-align: middle;\n",
              "    }\n",
              "\n",
              "    .dataframe tbody tr th {\n",
              "        vertical-align: top;\n",
              "    }\n",
              "\n",
              "    .dataframe thead th {\n",
              "        text-align: right;\n",
              "    }\n",
              "</style>\n",
              "<table border=\"1\" class=\"dataframe\">\n",
              "  <thead>\n",
              "    <tr style=\"text-align: right;\">\n",
              "      <th></th>\n",
              "      <th>title</th>\n",
              "      <th>tagline</th>\n",
              "    </tr>\n",
              "  </thead>\n",
              "  <tbody>\n",
              "    <tr>\n",
              "      <th>0</th>\n",
              "      <td>Avatar</td>\n",
              "      <td>Enter the World of Pandora.</td>\n",
              "    </tr>\n",
              "    <tr>\n",
              "      <th>1</th>\n",
              "      <td>Pirates of the Caribbean: At World's End</td>\n",
              "      <td>At the end of the world, the adventure begins.</td>\n",
              "    </tr>\n",
              "    <tr>\n",
              "      <th>2</th>\n",
              "      <td>Spectre</td>\n",
              "      <td>A Plan No One Escapes</td>\n",
              "    </tr>\n",
              "    <tr>\n",
              "      <th>3</th>\n",
              "      <td>The Dark Knight Rises</td>\n",
              "      <td>The Legend Ends</td>\n",
              "    </tr>\n",
              "    <tr>\n",
              "      <th>5</th>\n",
              "      <td>Spider-Man 3</td>\n",
              "      <td>The battle within.</td>\n",
              "    </tr>\n",
              "    <tr>\n",
              "      <th>...</th>\n",
              "      <td>...</td>\n",
              "      <td>...</td>\n",
              "    </tr>\n",
              "    <tr>\n",
              "      <th>3232</th>\n",
              "      <td>Pulp Fiction</td>\n",
              "      <td>Just because you are a character doesn't mean ...</td>\n",
              "    </tr>\n",
              "    <tr>\n",
              "      <th>3337</th>\n",
              "      <td>The Godfather</td>\n",
              "      <td>An offer you can't refuse.</td>\n",
              "    </tr>\n",
              "    <tr>\n",
              "      <th>3719</th>\n",
              "      <td>One Flew Over the Cuckoo's Nest</td>\n",
              "      <td>If he's crazy, what does that make you?</td>\n",
              "    </tr>\n",
              "    <tr>\n",
              "      <th>3865</th>\n",
              "      <td>Whiplash</td>\n",
              "      <td>The road to greatness can take you to the edge.</td>\n",
              "    </tr>\n",
              "    <tr>\n",
              "      <th>4074</th>\n",
              "      <td>It Follows</td>\n",
              "      <td>It doesn't think, it doesn't feel, it doesn't ...</td>\n",
              "    </tr>\n",
              "  </tbody>\n",
              "</table>\n",
              "<p>91 rows × 2 columns</p>\n",
              "</div>\n",
              "      <button class=\"colab-df-convert\" onclick=\"convertToInteractive('df-0ebfb03f-6f94-47ff-baca-be96da7702fa')\"\n",
              "              title=\"Convert this dataframe to an interactive table.\"\n",
              "              style=\"display:none;\">\n",
              "        \n",
              "  <svg xmlns=\"http://www.w3.org/2000/svg\" height=\"24px\"viewBox=\"0 0 24 24\"\n",
              "       width=\"24px\">\n",
              "    <path d=\"M0 0h24v24H0V0z\" fill=\"none\"/>\n",
              "    <path d=\"M18.56 5.44l.94 2.06.94-2.06 2.06-.94-2.06-.94-.94-2.06-.94 2.06-2.06.94zm-11 1L8.5 8.5l.94-2.06 2.06-.94-2.06-.94L8.5 2.5l-.94 2.06-2.06.94zm10 10l.94 2.06.94-2.06 2.06-.94-2.06-.94-.94-2.06-.94 2.06-2.06.94z\"/><path d=\"M17.41 7.96l-1.37-1.37c-.4-.4-.92-.59-1.43-.59-.52 0-1.04.2-1.43.59L10.3 9.45l-7.72 7.72c-.78.78-.78 2.05 0 2.83L4 21.41c.39.39.9.59 1.41.59.51 0 1.02-.2 1.41-.59l7.78-7.78 2.81-2.81c.8-.78.8-2.07 0-2.86zM5.41 20L4 18.59l7.72-7.72 1.47 1.35L5.41 20z\"/>\n",
              "  </svg>\n",
              "      </button>\n",
              "      \n",
              "  <style>\n",
              "    .colab-df-container {\n",
              "      display:flex;\n",
              "      flex-wrap:wrap;\n",
              "      gap: 12px;\n",
              "    }\n",
              "\n",
              "    .colab-df-convert {\n",
              "      background-color: #E8F0FE;\n",
              "      border: none;\n",
              "      border-radius: 50%;\n",
              "      cursor: pointer;\n",
              "      display: none;\n",
              "      fill: #1967D2;\n",
              "      height: 32px;\n",
              "      padding: 0 0 0 0;\n",
              "      width: 32px;\n",
              "    }\n",
              "\n",
              "    .colab-df-convert:hover {\n",
              "      background-color: #E2EBFA;\n",
              "      box-shadow: 0px 1px 2px rgba(60, 64, 67, 0.3), 0px 1px 3px 1px rgba(60, 64, 67, 0.15);\n",
              "      fill: #174EA6;\n",
              "    }\n",
              "\n",
              "    [theme=dark] .colab-df-convert {\n",
              "      background-color: #3B4455;\n",
              "      fill: #D2E3FC;\n",
              "    }\n",
              "\n",
              "    [theme=dark] .colab-df-convert:hover {\n",
              "      background-color: #434B5C;\n",
              "      box-shadow: 0px 1px 3px 1px rgba(0, 0, 0, 0.15);\n",
              "      filter: drop-shadow(0px 1px 2px rgba(0, 0, 0, 0.3));\n",
              "      fill: #FFFFFF;\n",
              "    }\n",
              "  </style>\n",
              "\n",
              "      <script>\n",
              "        const buttonEl =\n",
              "          document.querySelector('#df-0ebfb03f-6f94-47ff-baca-be96da7702fa button.colab-df-convert');\n",
              "        buttonEl.style.display =\n",
              "          google.colab.kernel.accessAllowed ? 'block' : 'none';\n",
              "\n",
              "        async function convertToInteractive(key) {\n",
              "          const element = document.querySelector('#df-0ebfb03f-6f94-47ff-baca-be96da7702fa');\n",
              "          const dataTable =\n",
              "            await google.colab.kernel.invokeFunction('convertToInteractive',\n",
              "                                                     [key], {});\n",
              "          if (!dataTable) return;\n",
              "\n",
              "          const docLinkHtml = 'Like what you see? Visit the ' +\n",
              "            '<a target=\"_blank\" href=https://colab.research.google.com/notebooks/data_table.ipynb>data table notebook</a>'\n",
              "            + ' to learn more about interactive tables.';\n",
              "          element.innerHTML = '';\n",
              "          dataTable['output_type'] = 'display_data';\n",
              "          await google.colab.output.renderOutput(dataTable, element);\n",
              "          const docLink = document.createElement('div');\n",
              "          docLink.innerHTML = docLinkHtml;\n",
              "          element.appendChild(docLink);\n",
              "        }\n",
              "      </script>\n",
              "    </div>\n",
              "  </div>\n",
              "  "
            ]
          },
          "metadata": {},
          "execution_count": 59
        }
      ]
    },
    {
      "cell_type": "markdown",
      "source": [
        "filter the dataset to include only movies with a homepage."
      ],
      "metadata": {
        "id": "WxoKYFIml4yW"
      }
    },
    {
      "cell_type": "code",
      "source": [
        "df[['title','homepage']]"
      ],
      "metadata": {
        "colab": {
          "base_uri": "https://localhost:8080/",
          "height": 424
        },
        "id": "XqL18XLamELW",
        "outputId": "7a65ce92-2fd5-4bd9-a8b6-0b91b05d2ea5"
      },
      "execution_count": null,
      "outputs": [
        {
          "output_type": "execute_result",
          "data": {
            "text/plain": [
              "                                         title  \\\n",
              "0                                       Avatar   \n",
              "1     Pirates of the Caribbean: At World's End   \n",
              "2                                      Spectre   \n",
              "3                        The Dark Knight Rises   \n",
              "4                                  John Carter   \n",
              "...                                        ...   \n",
              "4798                               El Mariachi   \n",
              "4799                                 Newlyweds   \n",
              "4800                 Signed, Sealed, Delivered   \n",
              "4801                          Shanghai Calling   \n",
              "4802                         My Date with Drew   \n",
              "\n",
              "                                               homepage  \n",
              "0                           http://www.avatarmovie.com/  \n",
              "1          http://disney.go.com/disneypictures/pirates/  \n",
              "2           http://www.sonypictures.com/movies/spectre/  \n",
              "3                    http://www.thedarkknightrises.com/  \n",
              "4                  http://movies.disney.com/john-carter  \n",
              "...                                                 ...  \n",
              "4798                                                NaN  \n",
              "4799                                                NaN  \n",
              "4800  http://www.hallmarkchannel.com/signedsealeddel...  \n",
              "4801                        http://shanghaicalling.com/  \n",
              "4802                                                NaN  \n",
              "\n",
              "[4803 rows x 2 columns]"
            ],
            "text/html": [
              "\n",
              "  <div id=\"df-3dcbe49f-8ee3-4896-9aff-900017e16370\">\n",
              "    <div class=\"colab-df-container\">\n",
              "      <div>\n",
              "<style scoped>\n",
              "    .dataframe tbody tr th:only-of-type {\n",
              "        vertical-align: middle;\n",
              "    }\n",
              "\n",
              "    .dataframe tbody tr th {\n",
              "        vertical-align: top;\n",
              "    }\n",
              "\n",
              "    .dataframe thead th {\n",
              "        text-align: right;\n",
              "    }\n",
              "</style>\n",
              "<table border=\"1\" class=\"dataframe\">\n",
              "  <thead>\n",
              "    <tr style=\"text-align: right;\">\n",
              "      <th></th>\n",
              "      <th>title</th>\n",
              "      <th>homepage</th>\n",
              "    </tr>\n",
              "  </thead>\n",
              "  <tbody>\n",
              "    <tr>\n",
              "      <th>0</th>\n",
              "      <td>Avatar</td>\n",
              "      <td>http://www.avatarmovie.com/</td>\n",
              "    </tr>\n",
              "    <tr>\n",
              "      <th>1</th>\n",
              "      <td>Pirates of the Caribbean: At World's End</td>\n",
              "      <td>http://disney.go.com/disneypictures/pirates/</td>\n",
              "    </tr>\n",
              "    <tr>\n",
              "      <th>2</th>\n",
              "      <td>Spectre</td>\n",
              "      <td>http://www.sonypictures.com/movies/spectre/</td>\n",
              "    </tr>\n",
              "    <tr>\n",
              "      <th>3</th>\n",
              "      <td>The Dark Knight Rises</td>\n",
              "      <td>http://www.thedarkknightrises.com/</td>\n",
              "    </tr>\n",
              "    <tr>\n",
              "      <th>4</th>\n",
              "      <td>John Carter</td>\n",
              "      <td>http://movies.disney.com/john-carter</td>\n",
              "    </tr>\n",
              "    <tr>\n",
              "      <th>...</th>\n",
              "      <td>...</td>\n",
              "      <td>...</td>\n",
              "    </tr>\n",
              "    <tr>\n",
              "      <th>4798</th>\n",
              "      <td>El Mariachi</td>\n",
              "      <td>NaN</td>\n",
              "    </tr>\n",
              "    <tr>\n",
              "      <th>4799</th>\n",
              "      <td>Newlyweds</td>\n",
              "      <td>NaN</td>\n",
              "    </tr>\n",
              "    <tr>\n",
              "      <th>4800</th>\n",
              "      <td>Signed, Sealed, Delivered</td>\n",
              "      <td>http://www.hallmarkchannel.com/signedsealeddel...</td>\n",
              "    </tr>\n",
              "    <tr>\n",
              "      <th>4801</th>\n",
              "      <td>Shanghai Calling</td>\n",
              "      <td>http://shanghaicalling.com/</td>\n",
              "    </tr>\n",
              "    <tr>\n",
              "      <th>4802</th>\n",
              "      <td>My Date with Drew</td>\n",
              "      <td>NaN</td>\n",
              "    </tr>\n",
              "  </tbody>\n",
              "</table>\n",
              "<p>4803 rows × 2 columns</p>\n",
              "</div>\n",
              "      <button class=\"colab-df-convert\" onclick=\"convertToInteractive('df-3dcbe49f-8ee3-4896-9aff-900017e16370')\"\n",
              "              title=\"Convert this dataframe to an interactive table.\"\n",
              "              style=\"display:none;\">\n",
              "        \n",
              "  <svg xmlns=\"http://www.w3.org/2000/svg\" height=\"24px\"viewBox=\"0 0 24 24\"\n",
              "       width=\"24px\">\n",
              "    <path d=\"M0 0h24v24H0V0z\" fill=\"none\"/>\n",
              "    <path d=\"M18.56 5.44l.94 2.06.94-2.06 2.06-.94-2.06-.94-.94-2.06-.94 2.06-2.06.94zm-11 1L8.5 8.5l.94-2.06 2.06-.94-2.06-.94L8.5 2.5l-.94 2.06-2.06.94zm10 10l.94 2.06.94-2.06 2.06-.94-2.06-.94-.94-2.06-.94 2.06-2.06.94z\"/><path d=\"M17.41 7.96l-1.37-1.37c-.4-.4-.92-.59-1.43-.59-.52 0-1.04.2-1.43.59L10.3 9.45l-7.72 7.72c-.78.78-.78 2.05 0 2.83L4 21.41c.39.39.9.59 1.41.59.51 0 1.02-.2 1.41-.59l7.78-7.78 2.81-2.81c.8-.78.8-2.07 0-2.86zM5.41 20L4 18.59l7.72-7.72 1.47 1.35L5.41 20z\"/>\n",
              "  </svg>\n",
              "      </button>\n",
              "      \n",
              "  <style>\n",
              "    .colab-df-container {\n",
              "      display:flex;\n",
              "      flex-wrap:wrap;\n",
              "      gap: 12px;\n",
              "    }\n",
              "\n",
              "    .colab-df-convert {\n",
              "      background-color: #E8F0FE;\n",
              "      border: none;\n",
              "      border-radius: 50%;\n",
              "      cursor: pointer;\n",
              "      display: none;\n",
              "      fill: #1967D2;\n",
              "      height: 32px;\n",
              "      padding: 0 0 0 0;\n",
              "      width: 32px;\n",
              "    }\n",
              "\n",
              "    .colab-df-convert:hover {\n",
              "      background-color: #E2EBFA;\n",
              "      box-shadow: 0px 1px 2px rgba(60, 64, 67, 0.3), 0px 1px 3px 1px rgba(60, 64, 67, 0.15);\n",
              "      fill: #174EA6;\n",
              "    }\n",
              "\n",
              "    [theme=dark] .colab-df-convert {\n",
              "      background-color: #3B4455;\n",
              "      fill: #D2E3FC;\n",
              "    }\n",
              "\n",
              "    [theme=dark] .colab-df-convert:hover {\n",
              "      background-color: #434B5C;\n",
              "      box-shadow: 0px 1px 3px 1px rgba(0, 0, 0, 0.15);\n",
              "      filter: drop-shadow(0px 1px 2px rgba(0, 0, 0, 0.3));\n",
              "      fill: #FFFFFF;\n",
              "    }\n",
              "  </style>\n",
              "\n",
              "      <script>\n",
              "        const buttonEl =\n",
              "          document.querySelector('#df-3dcbe49f-8ee3-4896-9aff-900017e16370 button.colab-df-convert');\n",
              "        buttonEl.style.display =\n",
              "          google.colab.kernel.accessAllowed ? 'block' : 'none';\n",
              "\n",
              "        async function convertToInteractive(key) {\n",
              "          const element = document.querySelector('#df-3dcbe49f-8ee3-4896-9aff-900017e16370');\n",
              "          const dataTable =\n",
              "            await google.colab.kernel.invokeFunction('convertToInteractive',\n",
              "                                                     [key], {});\n",
              "          if (!dataTable) return;\n",
              "\n",
              "          const docLinkHtml = 'Like what you see? Visit the ' +\n",
              "            '<a target=\"_blank\" href=https://colab.research.google.com/notebooks/data_table.ipynb>data table notebook</a>'\n",
              "            + ' to learn more about interactive tables.';\n",
              "          element.innerHTML = '';\n",
              "          dataTable['output_type'] = 'display_data';\n",
              "          await google.colab.output.renderOutput(dataTable, element);\n",
              "          const docLink = document.createElement('div');\n",
              "          docLink.innerHTML = docLinkHtml;\n",
              "          element.appendChild(docLink);\n",
              "        }\n",
              "      </script>\n",
              "    </div>\n",
              "  </div>\n",
              "  "
            ]
          },
          "metadata": {},
          "execution_count": 66
        }
      ]
    },
    {
      "cell_type": "markdown",
      "source": [
        "What is the revenue earned by avatar movies."
      ],
      "metadata": {
        "id": "6389WYEPmq-f"
      }
    },
    {
      "cell_type": "code",
      "source": [
        "rev=df[df['title']=='Avatar']\n",
        "rev['revenue'].sum()"
      ],
      "metadata": {
        "colab": {
          "base_uri": "https://localhost:8080/"
        },
        "id": "EnbD9JeXmKGd",
        "outputId": "0a97578b-33c2-418a-c1c5-c15b75fe2de3"
      },
      "execution_count": null,
      "outputs": [
        {
          "output_type": "execute_result",
          "data": {
            "text/plain": [
              "2787965087"
            ]
          },
          "metadata": {},
          "execution_count": 72
        }
      ]
    },
    {
      "cell_type": "markdown",
      "source": [
        "what is the release date of movies 'John Carter'"
      ],
      "metadata": {
        "id": "5t1kufvVnVMX"
      }
    },
    {
      "cell_type": "code",
      "source": [
        "rl=df[df['title'].str.contains('John Carter',case=False)]\n",
        "rl['release_date']"
      ],
      "metadata": {
        "colab": {
          "base_uri": "https://localhost:8080/"
        },
        "id": "LO5IBO_Znc68",
        "outputId": "0dd54aa6-91ff-4f25-fa46-68c1069e27e6"
      },
      "execution_count": null,
      "outputs": [
        {
          "output_type": "execute_result",
          "data": {
            "text/plain": [
              "4    2012-03-07\n",
              "Name: release_date, dtype: object"
            ]
          },
          "metadata": {},
          "execution_count": 74
        }
      ]
    },
    {
      "cell_type": "markdown",
      "source": [
        "**Q. Plot a graph to show number of movies in each language.**"
      ],
      "metadata": {
        "id": "dYEzAWGUWCwQ"
      }
    },
    {
      "cell_type": "code",
      "source": [
        "import seaborn as sb\n",
        "import matplotlib.pyplot as plt\n",
        "sb.countplot(x='original_language',data=df)\n",
        "plt.xticks(rotation='vertical')\n"
      ],
      "metadata": {
        "colab": {
          "base_uri": "https://localhost:8080/",
          "height": 1000
        },
        "id": "1q6E3O7KWLXc",
        "outputId": "cb790879-71ef-488f-a41e-d176d362c7ef"
      },
      "execution_count": null,
      "outputs": [
        {
          "output_type": "execute_result",
          "data": {
            "text/plain": [
              "(array([ 0,  1,  2,  3,  4,  5,  6,  7,  8,  9, 10, 11, 12, 13, 14, 15, 16,\n",
              "        17, 18, 19, 20, 21, 22, 23, 24, 25, 26, 27, 28, 29, 30, 31, 32, 33,\n",
              "        34, 35, 36]),\n",
              " [Text(0, 0, 'en'),\n",
              "  Text(1, 0, 'ja'),\n",
              "  Text(2, 0, 'fr'),\n",
              "  Text(3, 0, 'zh'),\n",
              "  Text(4, 0, 'es'),\n",
              "  Text(5, 0, 'de'),\n",
              "  Text(6, 0, 'hi'),\n",
              "  Text(7, 0, 'ru'),\n",
              "  Text(8, 0, 'ko'),\n",
              "  Text(9, 0, 'te'),\n",
              "  Text(10, 0, 'cn'),\n",
              "  Text(11, 0, 'it'),\n",
              "  Text(12, 0, 'nl'),\n",
              "  Text(13, 0, 'ta'),\n",
              "  Text(14, 0, 'sv'),\n",
              "  Text(15, 0, 'th'),\n",
              "  Text(16, 0, 'da'),\n",
              "  Text(17, 0, 'xx'),\n",
              "  Text(18, 0, 'hu'),\n",
              "  Text(19, 0, 'cs'),\n",
              "  Text(20, 0, 'pt'),\n",
              "  Text(21, 0, 'is'),\n",
              "  Text(22, 0, 'tr'),\n",
              "  Text(23, 0, 'nb'),\n",
              "  Text(24, 0, 'af'),\n",
              "  Text(25, 0, 'pl'),\n",
              "  Text(26, 0, 'he'),\n",
              "  Text(27, 0, 'ar'),\n",
              "  Text(28, 0, 'vi'),\n",
              "  Text(29, 0, 'ky'),\n",
              "  Text(30, 0, 'id'),\n",
              "  Text(31, 0, 'ro'),\n",
              "  Text(32, 0, 'fa'),\n",
              "  Text(33, 0, 'no'),\n",
              "  Text(34, 0, 'sl'),\n",
              "  Text(35, 0, 'ps'),\n",
              "  Text(36, 0, 'el')])"
            ]
          },
          "metadata": {},
          "execution_count": 14
        },
        {
          "output_type": "display_data",
          "data": {
            "text/plain": [
              "<Figure size 640x480 with 1 Axes>"
            ],
            "image/png": "[encoded data removed]"
          },
          "metadata": {}
        }
      ]
    },
    {
      "cell_type": "markdown",
      "source": [
        "**plot a graph show revenue generated in each year**"
      ],
      "metadata": {
        "id": "5r2lDJdbXwIS"
      }
    },
    {
      "cell_type": "code",
      "source": [
        "df['Year']=pd.to_datetime(df['release_date']).dt.year"
      ],
      "metadata": {
        "id": "S80wFKbPWUW3"
      },
      "execution_count": null,
      "outputs": []
    },
    {
      "cell_type": "code",
      "source": [
        "df['Year']=df['Year'].astype(int)"
      ],
      "metadata": {
        "id": "ykBZYIOgZrj0"
      },
      "execution_count": null,
      "outputs": []
    },
    {
      "cell_type": "code",
      "source": [
        "df = df.dropna(subset=['Year'])"
      ],
      "metadata": {
        "id": "1CjBTdEEa6Ut"
      },
      "execution_count": null,
      "outputs": []
    },
    {
      "cell_type": "code",
      "source": [
        "newdf= df[(df['Year']>=2000) & (df['Year']<=2025)]"
      ],
      "metadata": {
        "id": "mTwG7UGGeGZw"
      },
      "execution_count": null,
      "outputs": []
    },
    {
      "cell_type": "code",
      "source": [
        "revyear=newdf.groupby('Year')['revenue'].sum()\n",
        "revyear"
      ],
      "metadata": {
        "colab": {
          "base_uri": "https://localhost:8080/"
        },
        "id": "nCLQDUucaGqV",
        "outputId": "353d201e-5881-4c98-e2fe-9c8442d3e6a4"
      },
      "execution_count": null,
      "outputs": [
        {
          "output_type": "execute_result",
          "data": {
            "text/plain": [
              "Year\n",
              "2000    10952218337\n",
              "2001    13269869789\n",
              "2002    14609857556\n",
              "2003    14213319458\n",
              "2004    16278686567\n",
              "2005    14931589218\n",
              "2006    16635892750\n",
              "2007    16491621655\n",
              "2008    18146479803\n",
              "2009    21072651506\n",
              "2010    20348574768\n",
              "2011    20516921160\n",
              "2012    24141710246\n",
              "2013    23411493295\n",
              "2014    24120490589\n",
              "2015    22775024221\n",
              "2016    14461156948\n",
              "2017              0\n",
              "Name: revenue, dtype: int64"
            ]
          },
          "metadata": {},
          "execution_count": 78
        }
      ]
    },
    {
      "cell_type": "code",
      "source": [
        "sb.barplot(x=revyear.index,y=revyear.values)\n",
        "plt.xticks(rotation='vertical')"
      ],
      "metadata": {
        "colab": {
          "base_uri": "https://localhost:8080/",
          "height": 833
        },
        "id": "w3d2GWSAaRXV",
        "outputId": "3807d3c7-9ecf-45d6-9121-4b8721fb006c"
      },
      "execution_count": null,
      "outputs": [
        {
          "output_type": "execute_result",
          "data": {
            "text/plain": [
              "(array([ 0,  1,  2,  3,  4,  5,  6,  7,  8,  9, 10, 11, 12, 13, 14, 15, 16,\n",
              "        17]),\n",
              " [Text(0, 0, '2000'),\n",
              "  Text(1, 0, '2001'),\n",
              "  Text(2, 0, '2002'),\n",
              "  Text(3, 0, '2003'),\n",
              "  Text(4, 0, '2004'),\n",
              "  Text(5, 0, '2005'),\n",
              "  Text(6, 0, '2006'),\n",
              "  Text(7, 0, '2007'),\n",
              "  Text(8, 0, '2008'),\n",
              "  Text(9, 0, '2009'),\n",
              "  Text(10, 0, '2010'),\n",
              "  Text(11, 0, '2011'),\n",
              "  Text(12, 0, '2012'),\n",
              "  Text(13, 0, '2013'),\n",
              "  Text(14, 0, '2014'),\n",
              "  Text(15, 0, '2015'),\n",
              "  Text(16, 0, '2016'),\n",
              "  Text(17, 0, '2017')])"
            ]
          },
          "metadata": {},
          "execution_count": 79
        },
        {
          "output_type": "display_data",
          "data": {
            "text/plain": [
              "<Figure size 640x480 with 1 Axes>"
            ],
            "image/png": "[encoded data removed]"
          },
          "metadata": {}
        }
      ]
    },
    {
      "cell_type": "markdown",
      "source": [
        "Plot a graph to show top5 highest gross revenue"
      ],
      "metadata": {
        "id": "t1sMbEAwehzR"
      }
    },
    {
      "cell_type": "code",
      "source": [
        "gr=df.groupby('title')['revenue'].sum().sort_values(ascending=False).head(5)\n",
        "gr\n",
        "sb.barplot(x=gr.index,y=gr.values)\n",
        "plt.xticks(rotation='vertical')\n"
      ],
      "metadata": {
        "colab": {
          "base_uri": "https://localhost:8080/",
          "height": 652
        },
        "id": "PgyFOfKTfnhy",
        "outputId": "0d072f3b-17f6-41cf-908a-a03a4eda7111"
      },
      "execution_count": null,
      "outputs": [
        {
          "output_type": "execute_result",
          "data": {
            "text/plain": [
              "(array([0, 1, 2, 3, 4]),\n",
              " [Text(0, 0, 'Avatar'),\n",
              "  Text(1, 0, 'Titanic'),\n",
              "  Text(2, 0, 'The Avengers'),\n",
              "  Text(3, 0, 'Jurassic World'),\n",
              "  Text(4, 0, 'Furious 7')])"
            ]
          },
          "metadata": {},
          "execution_count": 96
        },
        {
          "output_type": "display_data",
          "data": {
            "text/plain": [
              "<Figure size 640x480 with 1 Axes>"
            ],
            "image/png": "[encoded data removed]"
          },
          "metadata": {}
        }
      ]
    },
    {
      "cell_type": "markdown",
      "source": [
        "**Check outliers of any three column name from given dataset using box plot**"
      ],
      "metadata": {
        "id": "tazfVWQFjok9"
      }
    },
    {
      "cell_type": "code",
      "source": [
        "sb.boxplot(x='title',y='revenue', data=df)"
      ],
      "metadata": {
        "colab": {
          "base_uri": "https://localhost:8080/",
          "height": 472
        },
        "id": "-ar1MxLxj68V",
        "outputId": "147fd21d-cd6d-4e72-b226-bf0016eff69c"
      },
      "execution_count": null,
      "outputs": [
        {
          "output_type": "execute_result",
          "data": {
            "text/plain": [
              "<Axes: xlabel='title', ylabel='revenue'>"
            ]
          },
          "metadata": {},
          "execution_count": 97
        },
        {
          "output_type": "display_data",
          "data": {
            "text/plain": [
              "<Figure size 640x480 with 1 Axes>"
            ],
            "image/png": "[encoded data removed]"
          },
          "metadata": {}
        }
      ]
    }
  ]
}